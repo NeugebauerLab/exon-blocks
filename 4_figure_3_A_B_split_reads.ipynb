{
 "cells": [
  {
   "cell_type": "code",
   "execution_count": null,
   "id": "ec561cbc-e34d-4762-bb56-a89ebe7d0e6f",
   "metadata": {},
   "outputs": [],
   "source": [
    "## What it does: generates read .bed files separating reads that have a given block exon\n",
    "#               either skipped or included.\n",
    "## Date modified: 2025/04/16\n",
    "## Inputs: gtf, gene_name, block_exons_ddPSImax0.2_adjacent.csv (output from script 3), .bam file from \n",
    "#         alignment (long-reads aligned e.g. with minimap2)."
   ]
  },
  {
   "cell_type": "code",
   "execution_count": 12,
   "id": "1cacee65-3581-48d4-b196-1d35ec327401",
   "metadata": {},
   "outputs": [],
   "source": [
    "#import packages\n",
    "import pandas as pd\n",
    "import numpy as np\n",
    "import matplotlib.pyplot as plt\n",
    "import pybedtools\n",
    "from tqdm import tqdm\n",
    "import seaborn as sns"
   ]
  },
  {
   "cell_type": "code",
   "execution_count": 13,
   "id": "6af158fb-e0af-4679-a321-a81616306ce8",
   "metadata": {},
   "outputs": [],
   "source": [
    "#convert gtf to gene BED\n",
    "def gtf_to_gene_bed(gtf_file, output_bed):\n",
    "    \"\"\"\n",
    "    Convert a GTF file to a BED file with gene-level annotations.\n",
    "    Ensures BED is properly formatted with integer coordinates and tab-delimited.\n",
    "    \"\"\"\n",
    "    gtf = pd.read_csv(gtf_file, sep=\"\\t\", comment=\"#\", header=None, names=[\n",
    "        'chrom', 'source', 'feature', 'start', 'end', 'score', 'strand', 'frame', 'attribute'])\n",
    "\n",
    "    # Filter only genes\n",
    "    genes = gtf[gtf['feature'] == 'gene'].copy()\n",
    "\n",
    "    # Extract gene_name from attributes\n",
    "    genes['gene_name'] = genes['attribute'].str.extract('gene_name \"([^\"]+)\"')\n",
    "\n",
    "    # BED format requires 0-based start coordinates\n",
    "    genes['start'] = genes['start'] - 1\n",
    "\n",
    "    # Force proper formatting\n",
    "    bed = genes[['chrom', 'start', 'end', 'gene_name', 'strand']].copy()\n",
    "    bed.insert(4, 'score', 0)  # Insert score in column 5\n",
    "\n",
    "    # Ensure integer coords\n",
    "    bed['start'] = bed['start'].astype(int)\n",
    "    bed['end'] = bed['end'].astype(int)\n",
    "\n",
    "    # Save as TAB-separated BED file\n",
    "    bed.to_csv(output_bed, sep=\"\\t\", header=False, index=False)\n",
    "\n",
    "    print(f\"BED saved with {len(bed)} gene entries to: {output_bed}\")\n"
   ]
  },
  {
   "cell_type": "code",
   "execution_count": 14,
   "id": "829a75b8-0303-4e8e-8a71-d6549e1f8a27",
   "metadata": {},
   "outputs": [
    {
     "name": "stdout",
     "output_type": "stream",
     "text": [
      "BED saved with 62700 gene entries to: hg38_genes.bed\n"
     ]
    }
   ],
   "source": [
    "# generate gene.bed from GTF\n",
    "gtf_to_gene_bed(\"gencode.v44.basic.annotation.gtf\", \"hg38_genes.bed\")"
   ]
  },
  {
   "cell_type": "code",
   "execution_count": 15,
   "id": "9d2e0540-e249-4d7f-b172-b3965fa137d1",
   "metadata": {},
   "outputs": [],
   "source": [
    "# block definition\n",
    "def get_exon_blocks(df, gene_name, max_dpsi_diff=0.2):\n",
    "    \"\"\"\n",
    "    Group exons into blocks by dPSI similarity and adjacency.\n",
    "    Returns a list of DataFrames, each one being a block.\n",
    "    \"\"\"\n",
    "    df = df[df['gene_name'] == gene_name].sort_values('exon_number').reset_index(drop=True)\n",
    "    df['group_id'] = ((df['dPSI'].diff().abs() > max_dpsi_diff) | \n",
    "                      (df['exon_number'].diff() != 1)).cumsum()\n",
    "\n",
    "    blocks = [group for _, group in df.groupby('group_id')]\n",
    "    return blocks\n"
   ]
  },
  {
   "cell_type": "code",
   "execution_count": 16,
   "id": "910494d3-9661-499c-8185-e5c2d8c879b3",
   "metadata": {},
   "outputs": [],
   "source": [
    "#Intersect reads with all exons in the selected block\n",
    "\n",
    "def split_reads_for_block(gene_bed_path, gene_name, reads_bam_path, coord_exon_file, block_index=0, mode=\"full-block\"):\n",
    "    \"\"\"\n",
    "    Split reads into spliced-in or spliced-out for a single exon block.\n",
    "\n",
    "    Parameters:\n",
    "    - gene_bed_path: BED file with gene coordinates\n",
    "    - gene_name: name of the gene to process\n",
    "    - reads_bam_path: BAM file with aligned reads\n",
    "    - coord_exon_file: CSV with exon block coordinates (e.g., block_exons_ddPSImax0.2_adjacent.csv)\n",
    "    - block_index: which block to use (0 = first block found in gene)\n",
    "    - mode: 'full-block' (default) or 'single-exon' \n",
    "\n",
    "    Returns:\n",
    "    - spliced_in, spliced_out as BedTool objects\n",
    "    \"\"\"\n",
    "\n",
    "    # Load gene BED and filter to gene\n",
    "    gene_bed_df = pd.read_csv(gene_bed_path, sep=\"\\t\", header=None,\n",
    "                              names=[\"chrom\", \"start\", \"end\", \"gene_name\", \"score\", \"strand\"])\n",
    "    gene_row = gene_bed_df[gene_bed_df['gene_name'] == gene_name]\n",
    "    if gene_row.empty:\n",
    "        raise ValueError(f\"Gene {gene_name} not found in gene BED.\")\n",
    "    gene_bed = pybedtools.BedTool.from_dataframe(gene_row)\n",
    "\n",
    "    # Read BAM, convert to BED12, clean chrom\n",
    "    bam_df = pybedtools.BedTool(reads_bam_path).bamtobed(bed12=True).to_dataframe()\n",
    "    bam_df['chrom'] = bam_df['chrom'].apply(lambda x: f\"chr{x}\" if not str(x).startswith(\"chr\") else x)\n",
    "    reads_bed = pybedtools.BedTool.from_dataframe(bam_df)\n",
    "\n",
    "    # Get reads on the gene\n",
    "    reads_on_gene = reads_bed.intersect(gene_bed, s=True, f=0.9)\n",
    "\n",
    "    # Load exon table and get blocks\n",
    "    blocks_df = pd.read_csv(coord_exon_file)\n",
    "    exon_blocks = get_exon_blocks(blocks_df, gene_name)\n",
    "    if block_index >= len(exon_blocks):\n",
    "        raise IndexError(f\"Block index {block_index} is out of range for {gene_name}\")\n",
    "\n",
    "    block_df = exon_blocks[block_index]\n",
    "    strand = block_df['Strand'].iloc[0]\n",
    "\n",
    "    # Convert block exons to BED format\n",
    "    coords = block_df['Coord'].str.extract(r'(chr[\\w\\d]+):(\\d+)-(\\d+)')\n",
    "    coords.columns = ['chrom', 'start', 'end']\n",
    "    coords['name'] = gene_name\n",
    "    coords['score'] = 0\n",
    "    coords['strand'] = strand\n",
    "    coords = coords.astype({'start': int, 'end': int})\n",
    "    block_bed = pybedtools.BedTool.from_dataframe(coords)\n",
    "\n",
    "    # Intersect logic\n",
    "    if mode == \"full-block\":\n",
    "        spliced_in = reads_on_gene\n",
    "        for exon in block_bed:\n",
    "            exon_bt = pybedtools.BedTool(str(exon), from_string=True)\n",
    "            spliced_in = spliced_in.intersect(exon_bt, s=True, u=True)\n",
    "        spliced_out = reads_on_gene.filter(lambda r: r.name not in {x.name for x in spliced_in}).saveas()\n",
    "\n",
    "    elif mode == \"single-exon\":\n",
    "        first_exon = block_bed[0]\n",
    "        exon_bt = pybedtools.BedTool(str(first_exon), from_string=True)\n",
    "        spliced_in = reads_on_gene.intersect(exon_bt, s=True, split=True, wa=True)\n",
    "        spliced_out = reads_on_gene.intersect(exon_bt, s=True, wa=True).intersect(exon_bt, s=True, split=True, wa=True, v=True)\n",
    "\n",
    "    else:\n",
    "        raise ValueError(\"mode must be either 'full-block' or 'single-exon'\")\n",
    "\n",
    "    print(f\"[{gene_name} block {block_index}] Spliced-in reads: {len(spliced_in)}\")\n",
    "    print(f\"[{gene_name} block {block_index}] Spliced-out reads: {len(spliced_out)}\")\n",
    "\n",
    "    return spliced_in, spliced_out\n"
   ]
  },
  {
   "cell_type": "code",
   "execution_count": 17,
   "id": "e8b82017-7a58-422b-a2d0-b2cf2075c1b2",
   "metadata": {},
   "outputs": [],
   "source": [
    "#save reads\n",
    "\n",
    "def save_balanced_reads(splice_in, splice_out, file_in, file_out, read_number=50):\n",
    "    percent_in = len(splice_in) / (len(splice_in) + len(splice_out) + 1e-10)\n",
    "    splice_in.to_dataframe().head(int(read_number * round(percent_in, 1))).to_csv(file_in, sep=\"\\t\", index=False, header=False)\n",
    "    splice_out.to_dataframe().head(int(read_number * round(1 - percent_in, 1))).to_csv(file_out, sep=\"\\t\", index=False, header=False)\n"
   ]
  },
  {
   "cell_type": "code",
   "execution_count": 20,
   "id": "5c46fdbb-52df-4856-8bbd-eeba284f05d7",
   "metadata": {},
   "outputs": [
    {
     "name": "stderr",
     "output_type": "stream",
     "text": [
      "/Users/alexandrabergfort/opt/anaconda3/envs/jupyter/lib/python3.9/site-packages/pybedtools/bedtool.py:3698: DtypeWarning: Columns (0) have mixed types. Specify dtype option on import or set low_memory=False.\n",
      "  return pandas.read_csv(self.fn, *args, sep=\"\\t\", **kwargs)\n"
     ]
    },
    {
     "name": "stdout",
     "output_type": "stream",
     "text": [
      "[FUS block 0] Spliced-in reads: 321\n",
      "[FUS block 0] Spliced-out reads: 46\n"
     ]
    }
   ],
   "source": [
    "# USAGE: \n",
    "spliced_in, spliced_out = split_reads_for_block(\n",
    "    gene_bed_path=\"hg38_genes.bed\",\n",
    "    gene_name=\"FUS\",\n",
    "    reads_bam_path=\"sm_dano_3_Tsm.sam.bam\",\n",
    "    coord_exon_file=\"block_exons_ddPSImax0.2_adjacent.csv\",\n",
    "    block_index=0,\n",
    "    mode=\"single-exon\"  \n",
    ")\n"
   ]
  },
  {
   "cell_type": "code",
   "execution_count": 19,
   "id": "f93b5358-850e-4bac-96d3-8048f69053fe",
   "metadata": {},
   "outputs": [],
   "source": [
    "save_balanced_reads(spliced_in, spliced_out,\n",
    "                    file_in=\"FUS_block0_included.bed\",\n",
    "                    file_out=\"FUS_block0_skipped.bed\",\n",
    "                    read_number=50)"
   ]
  },
  {
   "cell_type": "code",
   "execution_count": null,
   "id": "95aab4b7-7cf6-4a70-be15-b5874fe3d564",
   "metadata": {},
   "outputs": [],
   "source": []
  }
 ],
 "metadata": {
  "kernelspec": {
   "display_name": "Python 3 (ipykernel)",
   "language": "python",
   "name": "python3"
  },
  "language_info": {
   "codemirror_mode": {
    "name": "ipython",
    "version": 3
   },
   "file_extension": ".py",
   "mimetype": "text/x-python",
   "name": "python",
   "nbconvert_exporter": "python",
   "pygments_lexer": "ipython3",
   "version": "3.9.20"
  }
 },
 "nbformat": 4,
 "nbformat_minor": 5
}
