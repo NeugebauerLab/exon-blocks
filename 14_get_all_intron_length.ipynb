{
 "cells": [
  {
   "cell_type": "code",
   "execution_count": 1,
   "id": "8b4242ff-e180-4678-ba30-3fcf34423735",
   "metadata": {},
   "outputs": [],
   "source": [
    "##Title: Get all (whippet) introns intron length, to be used in script 15\n",
    "## input: whippet output csv with exon coordinates "
   ]
  },
  {
   "cell_type": "code",
   "execution_count": null,
   "id": "c821eeec-0146-4d02-9d9c-302d695421e4",
   "metadata": {},
   "outputs": [],
   "source": [
    "import pandas as pd\n",
    "import gffutils\n"
   ]
  },
  {
   "cell_type": "code",
   "execution_count": 2,
   "id": "0f7b308c-b3b5-4132-b7d3-89bdaa9f5a98",
   "metadata": {},
   "outputs": [],
   "source": [
    "exons_df = pd.read_csv('all_whippet_exons.csv')\n",
    "gtf_file = \"gencode.v44.basic.annotation.gtf\""
   ]
  },
  {
   "cell_type": "code",
   "execution_count": 3,
   "id": "5d4d4c1d-035d-4ffc-8d4b-d8637bbde8fa",
   "metadata": {},
   "outputs": [],
   "source": [
    "exons_df[['chr', 'start', 'end']] = exons_df['Coord'].str.extract(r'(chr[\\w]+):(\\d+)-(\\d+)')\n",
    "exons_df['start'] = exons_df['start'].astype(int)\n",
    "exons_df['end'] = exons_df['end'].astype(int)\n"
   ]
  },
  {
   "cell_type": "code",
   "execution_count": 4,
   "id": "48282e3e-0683-4772-be0a-a0e6d64af65d",
   "metadata": {},
   "outputs": [],
   "source": [
    "# Load GTF file and create a database using gffutils with inference disabled\n",
    "db = gffutils.create_db(\n",
    "    gtf_file,\n",
    "    dbfn=\":memory:\",  # Use an in-memory database\n",
    "    force=True,\n",
    "    keep_order=True,\n",
    "    merge_strategy=\"merge\",\n",
    "    sort_attribute_values=True,\n",
    "    disable_infer_transcripts=True,  # Disable inferring transcript features\n",
    "    disable_infer_genes=True         # Disable inferring gene features\n",
    ")\n"
   ]
  },
  {
   "cell_type": "code",
   "execution_count": 5,
   "id": "1686b83b-0b77-4e77-8b1c-cb03810fde18",
   "metadata": {},
   "outputs": [],
   "source": [
    "# Extract exon information from the GTF file\n",
    "gtf_exons = pd.DataFrame(\n",
    "    [\n",
    "        {\n",
    "            \"chr\": feature.seqid,\n",
    "            \"start\": feature.start,\n",
    "            \"end\": feature.end,\n",
    "            \"strand\": feature.strand,\n",
    "            \"gene_id\": feature.attributes.get(\"gene_id\", [None])[0],\n",
    "            \"transcript_id\": feature.attributes.get(\"transcript_id\", [None])[0],\n",
    "        }\n",
    "        for feature in db.features_of_type(\"exon\")\n",
    "    ]\n",
    ")\n",
    "\n",
    "# Ensure proper data types\n",
    "gtf_exons['start'] = gtf_exons['start'].astype(int)\n",
    "gtf_exons['end'] = gtf_exons['end'].astype(int)\n",
    "\n",
    "\n"
   ]
  },
  {
   "cell_type": "code",
   "execution_count": 6,
   "id": "b6d8bd50-afef-4f87-acb3-e5fd6c2749a5",
   "metadata": {},
   "outputs": [],
   "source": [
    "# Function to calculate downstream intron length\n",
    "def calculate_intron_length(row, gtf_exons):\n",
    "    if row['Strand'] == '+':\n",
    "        # Find the next exon for the same gene on the same strand\n",
    "        downstream_exon = gtf_exons[\n",
    "            (gtf_exons['gene_id'] == row['Gene']) &\n",
    "            (gtf_exons['chr'] == row['chr']) &\n",
    "            (gtf_exons['strand'] == row['Strand']) &\n",
    "            (gtf_exons['start'] > row['end'])\n",
    "        ].sort_values(by='start').head(1)\n",
    "    else:\n",
    "        # Find the previous exon for the same gene on the same strand\n",
    "        downstream_exon = gtf_exons[\n",
    "            (gtf_exons['gene_id'] == row['Gene']) &\n",
    "            (gtf_exons['chr'] == row['chr']) &\n",
    "            (gtf_exons['strand'] == row['Strand']) &\n",
    "            (gtf_exons['end'] < row['start'])\n",
    "        ].sort_values(by='end', ascending=False).head(1)\n",
    "\n",
    "    # Calculate intron length\n",
    "    if not downstream_exon.empty:\n",
    "        if row['Strand'] == '+':\n",
    "            return downstream_exon.iloc[0]['start'] - row['end']\n",
    "        else:\n",
    "            return row['start'] - downstream_exon.iloc[0]['end']\n",
    "    return None\n"
   ]
  },
  {
   "cell_type": "code",
   "execution_count": 7,
   "id": "da1a1deb-7cc0-4067-9c98-6ba8b4de6857",
   "metadata": {},
   "outputs": [],
   "source": [
    "# Apply the function to calculate intron lengths\n",
    "exons_df['intron_length'] = exons_df.apply(calculate_intron_length, axis=1, gtf_exons=gtf_exons)"
   ]
  },
  {
   "cell_type": "code",
   "execution_count": 9,
   "id": "776990d2-4c98-48fd-8074-d1dd5f80cb9c",
   "metadata": {},
   "outputs": [],
   "source": [
    "# Drop rows with no downstream intron (last exon)\n",
    "exons_df.dropna(subset=['intron_length'], inplace=True)"
   ]
  },
  {
   "cell_type": "code",
   "execution_count": 11,
   "id": "4f575005-304b-4038-9f50-bc509868eff7",
   "metadata": {},
   "outputs": [],
   "source": [
    "exons_df.to_csv('all_whippet_detected_intron_length.csv', index = False)"
   ]
  }
 ],
 "metadata": {
  "kernelspec": {
   "display_name": "Python 3 (ipykernel)",
   "language": "python",
   "name": "python3"
  },
  "language_info": {
   "codemirror_mode": {
    "name": "ipython",
    "version": 3
   },
   "file_extension": ".py",
   "mimetype": "text/x-python",
   "name": "python",
   "nbconvert_exporter": "python",
   "pygments_lexer": "ipython3",
   "version": "3.9.20"
  }
 },
 "nbformat": 4,
 "nbformat_minor": 5
}
