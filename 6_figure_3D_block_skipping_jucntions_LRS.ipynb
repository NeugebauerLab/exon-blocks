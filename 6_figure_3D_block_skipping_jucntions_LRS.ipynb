{
 "cells": [
  {
   "cell_type": "code",
   "execution_count": 1,
   "id": "c9031d0f-adc0-426d-bb69-3bf8c1044aaf",
   "metadata": {},
   "outputs": [],
   "source": [
    "###purpose: plot RPM over block-exon-skipping-junctions\n",
    "###input: output csv from get_junction_reads.py*\n",
    "###output: Violine plot Figure 3D\n",
    "###date: 04/28/2025\n",
    "\n",
    "\n",
    "### * 1) run script 5 to get coordinates of exon-block flanking junctions\n",
    "#      2) run get_junction_reads.py as follows:\n",
    "#        python get_junction_reads.py --bam_dir path/to/aligned/reads/in/bam/format --junction_csv exon_block_coordinates_ups_dns.csv\n",
    "#        --output_csv junction_coverage_results.csv --tolerance 5\n",
    "            "
   ]
  },
  {
   "cell_type": "code",
   "execution_count": 1,
   "id": "52cb59b7-bb67-4dc8-95da-eaa602bd31f1",
   "metadata": {},
   "outputs": [],
   "source": [
    "import pandas as pd\n",
    "import seaborn as sns\n",
    "import matplotlib.pyplot as plt\n",
    "import numpy as np\n"
   ]
  },
  {
   "cell_type": "code",
   "execution_count": 2,
   "id": "1e116c77-5d0c-4aff-9e7e-28031893eb31",
   "metadata": {},
   "outputs": [],
   "source": [
    "# Load the data\n",
    "data = pd.read_csv(\"junction_coverage_results.csv\") "
   ]
  },
  {
   "cell_type": "code",
   "execution_count": 3,
   "id": "2c2640b8-2852-4506-bd4b-5d0dc2469dbf",
   "metadata": {},
   "outputs": [
    {
     "name": "stdout",
     "output_type": "stream",
     "text": [
      "Percentage of rows where either 'mean_ctr_rpm' or 'mean_kd_rpm' is not 0: 58.47%\n"
     ]
    }
   ],
   "source": [
    "# Identify rows where both mean_ctr_rpm and mean_kd_rpm are 0\n",
    "non_zero_data = data[(data['mean_ctr_rpm'] != 0) | (data['mean_kd_rpm'] != 0)]\n",
    "\n",
    "# Calculate the percentage of rows where at least one mean is not 0\n",
    "percentage_non_zero = (len(non_zero_data) / len(data)) * 100\n",
    "\n",
    "print(f\"Percentage of rows where either 'mean_ctr_rpm' or 'mean_kd_rpm' is not 0: {percentage_non_zero:.2f}%\")\n",
    "\n",
    "\n"
   ]
  },
  {
   "cell_type": "code",
   "execution_count": 4,
   "id": "b10f791b-c9d0-4487-ada3-afd0990d8e68",
   "metadata": {},
   "outputs": [
    {
     "name": "stderr",
     "output_type": "stream",
     "text": [
      "/var/folders/s5/012b_sqx2bl9vk20cyklfj_r0000gn/T/ipykernel_74884/675760400.py:15: FutureWarning: \n",
      "\n",
      "Passing `palette` without assigning `hue` is deprecated and will be removed in v0.14.0. Assign the `x` variable to `hue` and set `legend=False` for the same effect.\n",
      "\n",
      "  sns.violinplot(\n"
     ]
    },
    {
     "data": {
      "image/png": "[encoded data removed]",
      "text/plain": [
       "<Figure size 600x400 with 1 Axes>"
      ]
     },
     "metadata": {},
     "output_type": "display_data"
    }
   ],
   "source": [
    "# Ensure necessary columns exist and rename if needed\n",
    "if 'Control' not in non_zero_data.columns or 'Knockdown' not in non_zero_data.columns:\n",
    "    non_zero_data = non_zero_data.rename(columns={'mean_ctr_rpm': 'Control', 'mean_kd_rpm': 'Knockdown'})\n",
    "\n",
    "# Melt the DataFrame into long format for seaborn\n",
    "melted_data = non_zero_data.melt(var_name='Condition', value_name='Mean RPM', value_vars=['Control', 'Knockdown'])\n",
    "\n",
    "# Convert `Condition` to string to avoid type errors\n",
    "melted_data['Condition'] = melted_data['Condition'].astype(str)\n",
    "\n",
    "# Create the figure with a well-balanced aspect ratio\n",
    "plt.figure(figsize=(6, 4))\n",
    "\n",
    "# Violin plot with optimized density visualization\n",
    "sns.violinplot(\n",
    "    data=melted_data, \n",
    "    x='Condition', \n",
    "    y='Mean RPM', \n",
    "    palette={'Control': 'gray', 'Knockdown': '#FFD449'}, \n",
    "    inner=None, \n",
    "    cut=0, \n",
    "    linewidth=1.2\n",
    ")\n",
    "\n",
    "# Overlay boxplot with proper visibility\n",
    "sns.boxplot(\n",
    "    data=melted_data, \n",
    "    x='Condition', \n",
    "    y='Mean RPM', \n",
    "    width=0.2, \n",
    "    showfliers=False,  # Hides outliers to avoid clutter\n",
    "    boxprops=dict(alpha=0.8, edgecolor=\"black\"),  # Makes boxplot clear\n",
    "    medianprops=dict(color=\"black\", linewidth=1.5)  # Enhances median line\n",
    ")\n",
    "\n",
    "# **Set y-axis limits properly**\n",
    "plt.ylim(-1, 60)\n",
    "         # max(melted_data['Mean RPM']) * 1.1)\n",
    "\n",
    "# # **Add a reference line at 0**\n",
    "# plt.axhline(y=0, color='black', linestyle='--', linewidth=1)\n",
    "\n",
    "# Improve labels and formatting\n",
    "plt.ylabel('Mean RPM', fontsize=12)\n",
    "plt.xlabel('Condition', fontsize=12)\n",
    "plt.xticks(fontsize=11)\n",
    "\n",
    "# Remove top and right spines for a cleaner look\n",
    "sns.despine()\n",
    "\n",
    "# # Save the plot at high resolution\n",
    "plt.savefig('block_skipping_junctions_rpm_violin_boxplot.png', dpi=600)\n",
    "plt.savefig('block_skipping_junctions_rpm_violin_boxplot.pdf', dpi=600)\n",
    "\n",
    "# Show the plot\n",
    "plt.show()\n"
   ]
  },
  {
   "cell_type": "code",
   "execution_count": 5,
   "id": "732a4afb-1a73-4150-ae2c-1432b334c33a",
   "metadata": {},
   "outputs": [
    {
     "name": "stdout",
     "output_type": "stream",
     "text": [
      "Mean of mean_percent_jr_kd (non-zero values): 12.459\n",
      "Median of mean_percent_jr_kd (non-zero values): 10.407\n",
      "Mean of mean_percent_jr_ctr (non-zero values): 0.605\n",
      "Median of mean_percent_jr_ctr (non-zero values): 0.000\n"
     ]
    }
   ],
   "source": [
    "## Look at what percentage of reads spanning the ups_dns region have the block skipped\n",
    "# Calculate mean and median\n",
    "mean_value = non_zero_data[\"mean_percent_jr_kd\"].mean()\n",
    "median_value = non_zero_data[\"mean_percent_jr_kd\"].median()\n",
    "\n",
    "mean_value_2 = non_zero_data[\"mean_percent_jr_ctr\"].mean()\n",
    "median_value_2 = non_zero_data[\"mean_percent_jr_ctr\"].median()\n",
    "\n",
    "# Print results\n",
    "print(f\"Mean of mean_percent_jr_kd (non-zero values): {mean_value:.3f}\")\n",
    "print(f\"Median of mean_percent_jr_kd (non-zero values): {median_value:.3f}\")\n",
    "\n",
    "print(f\"Mean of mean_percent_jr_ctr (non-zero values): {mean_value_2:.3f}\")\n",
    "print(f\"Median of mean_percent_jr_ctr (non-zero values): {median_value_2:.3f}\")"
   ]
  },
  {
   "cell_type": "code",
   "execution_count": null,
   "id": "ac67b467-a0d1-437d-b3ce-feee1b99bb42",
   "metadata": {},
   "outputs": [],
   "source": []
  }
 ],
 "metadata": {
  "kernelspec": {
   "display_name": "Python 3 (ipykernel)",
   "language": "python",
   "name": "python3"
  },
  "language_info": {
   "codemirror_mode": {
    "name": "ipython",
    "version": 3
   },
   "file_extension": ".py",
   "mimetype": "text/x-python",
   "name": "python",
   "nbconvert_exporter": "python",
   "pygments_lexer": "ipython3",
   "version": "3.9.20"
  }
 },
 "nbformat": 4,
 "nbformat_minor": 5
}
