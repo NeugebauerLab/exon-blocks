{
 "cells": [
  {
   "cell_type": "code",
   "execution_count": null,
   "id": "cb25060e-72a3-4300-aacc-e81d76c542ea",
   "metadata": {},
   "outputs": [],
   "source": [
    "### What it provides: block exon coordinates and numbers, Figure 1G\n",
    "## Date_modified: 2025/04/16\n",
    "## input: csv file with significantly altered dPSI values and gene_names (output script 1)\n",
    "## output: several csv files with the coordinates of different block_exon categories (first, middle, last,\n",
    "## exons in blocks that are more skipped or more included upon EIF4A3 depletion), Figure 1G plot"
   ]
  },
  {
   "cell_type": "code",
   "execution_count": 1,
   "id": "9f134dff-63e1-4535-8b6b-a4e98e8ecfc1",
   "metadata": {},
   "outputs": [],
   "source": [
    "import pandas as pd\n",
    "import numpy as np\n",
    "import matplotlib.pyplot as plt"
   ]
  },
  {
   "cell_type": "code",
   "execution_count": 2,
   "id": "28d2b245-62c9-4571-bf91-82288ca3dfd1",
   "metadata": {},
   "outputs": [
    {
     "name": "stdout",
     "output_type": "stream",
     "text": [
      "There are 6579 exons more skipped upon eif4a3 depletion\n",
      "There are 519 exons more included upon eif4a3 depletion\n"
     ]
    }
   ],
   "source": [
    "# Load data\n",
    "wh = pd.read_csv('sig_whip_CE_prob0.9_dPSI_0.1.csv')\n",
    "\n",
    "# Count dPSI directions\n",
    "negative_values_count = (wh['dPSI'] < 0).sum()\n",
    "positive_values_count = (wh['dPSI'] > 0).sum()\n",
    "\n",
    "print(f\"There are {negative_values_count} exons more skipped upon eif4a3 depletion\")\n",
    "print(f\"There are {positive_values_count} exons more included upon eif4a3 depletion\")"
   ]
  },
  {
   "cell_type": "code",
   "execution_count": 3,
   "id": "787c2cf4-700e-4776-a1cf-c02cc1cbf420",
   "metadata": {},
   "outputs": [
    {
     "name": "stderr",
     "output_type": "stream",
     "text": [
      "/var/folders/s5/012b_sqx2bl9vk20cyklfj_r0000gn/T/ipykernel_75830/120507126.py:12: DeprecationWarning: DataFrameGroupBy.apply operated on the grouping columns. This behavior is deprecated, and in a future version of pandas the grouping columns will be excluded from the operation. Either pass `include_groups=False` to exclude the groupings or explicitly select the grouping columns after groupby to silence this warning.\n",
      "  wh.groupby('gene_name')\n"
     ]
    }
   ],
   "source": [
    "# Filter for Coordinated Exons (ΔPSI ≤ 0.02 within gene)\n",
    "\n",
    "def find_coords_with_small_deltapsi_diff(group):\n",
    "    result = []\n",
    "    for i in range(len(group)):\n",
    "        for j in range(i + 1, len(group)):\n",
    "            if abs(group.iloc[i]['dPSI'] - group.iloc[j]['dPSI']) <= 0.02:\n",
    "                result.extend([group.iloc[i]['Coord'], group.iloc[j]['Coord']])\n",
    "    return result\n",
    "\n",
    "coords_to_keep = (\n",
    "    wh.groupby('gene_name')\n",
    "    .apply(find_coords_with_small_deltapsi_diff)\n",
    "    .explode()\n",
    "    .dropna()\n",
    "    .unique()\n",
    ")\n",
    "\n",
    "bl_ex = wh[wh['Coord'].isin(coords_to_keep)]\n"
   ]
  },
  {
   "cell_type": "code",
   "execution_count": 4,
   "id": "0ce9f644-767b-47b2-9c0d-76f4463e8bef",
   "metadata": {},
   "outputs": [
    {
     "name": "stdout",
     "output_type": "stream",
     "text": [
      "Mean of dPSI in block exons: -0.198\n",
      "Median of dPSI in block exons: -0.170\n"
     ]
    },
    {
     "name": "stderr",
     "output_type": "stream",
     "text": [
      "/var/folders/s5/012b_sqx2bl9vk20cyklfj_r0000gn/T/ipykernel_75830/2728816870.py:3: DeprecationWarning: DataFrameGroupBy.apply operated on the grouping columns. This behavior is deprecated, and in a future version of pandas the grouping columns will be excluded from the operation. Either pass `include_groups=False` to exclude the groupings or explicitly select the grouping columns after groupby to silence this warning.\n",
      "  bl_ex.groupby('gene_name')\n"
     ]
    }
   ],
   "source": [
    "#  Subsample Coordinated Exons with Adjacent Neighbors\n",
    "bl_ex_sorted = (\n",
    "    bl_ex.groupby('gene_name')\n",
    "    .apply(lambda x: x.sort_values('exon_number'))\n",
    "    .reset_index(drop=True)\n",
    ")\n",
    "\n",
    "bl_ex_sorted['next_exon_diff'] = bl_ex_sorted.groupby('gene_name')['exon_number'].shift(-1) - bl_ex_sorted['exon_number']\n",
    "bl_ex_sorted['prev_exon_diff'] = bl_ex_sorted['exon_number'] - bl_ex_sorted.groupby('gene_name')['exon_number'].shift(1)\n",
    "bl_ex_sorted['has_neighbor'] = ((bl_ex_sorted['next_exon_diff'] == 1) | (bl_ex_sorted['prev_exon_diff'] == 1)).astype(int)\n",
    "\n",
    "bl_ex_ad = bl_ex_sorted[bl_ex_sorted['has_neighbor'] == 1].reset_index(drop=True)\n",
    "\n",
    "print(f\"Mean of dPSI in block exons: {bl_ex_ad['dPSI'].mean():.3f}\")\n",
    "print(f\"Median of dPSI in block exons: {bl_ex_ad['dPSI'].median():.3f}\")\n",
    "\n",
    "bl_ex_ad.to_csv(\"block_exons_ddPSImax0.2_adjacent.csv\", index=False)\n"
   ]
  },
  {
   "cell_type": "code",
   "execution_count": 5,
   "id": "8108086b-d033-410e-b55a-f4798ae0cf57",
   "metadata": {},
   "outputs": [
    {
     "name": "stdout",
     "output_type": "stream",
     "text": [
      "Number of detected block exons: 3105\n",
      "Mean number of Coord per block: 2.41\n",
      "Percentage of blocks with >2 Coord: 24.71%\n"
     ]
    },
    {
     "name": "stderr",
     "output_type": "stream",
     "text": [
      "/var/folders/s5/012b_sqx2bl9vk20cyklfj_r0000gn/T/ipykernel_75830/4262726860.py:17: DeprecationWarning: DataFrameGroupBy.apply operated on the grouping columns. This behavior is deprecated, and in a future version of pandas the grouping columns will be excluded from the operation. Either pass `include_groups=False` to exclude the groupings or explicitly select the grouping columns after groupby to silence this warning.\n",
      "  all_subgroups = bl_ex_ad.groupby('gene_name').apply(create_subgroups)\n"
     ]
    }
   ],
   "source": [
    "#Define Blocks by ΔPSI Similarity and Characterize\n",
    "proximity_threshold = 0.02\n",
    "\n",
    "def create_subgroups(group):\n",
    "    group = group.sort_values(by='dPSI').reset_index(drop=True)\n",
    "    subgroups = []\n",
    "    current_group = [group.iloc[0]]\n",
    "    for i in range(1, len(group)):\n",
    "        if abs(group.iloc[i]['dPSI'] - group.iloc[i - 1]['dPSI']) <= proximity_threshold:\n",
    "            current_group.append(group.iloc[i])\n",
    "        else:\n",
    "            subgroups.append(current_group)\n",
    "            current_group = [group.iloc[i]]\n",
    "    subgroups.append(current_group)\n",
    "    return subgroups\n",
    "\n",
    "all_subgroups = bl_ex_ad.groupby('gene_name').apply(create_subgroups)\n",
    "\n",
    "coord_counts_per_block = [len(block) for gene_blocks in all_subgroups for block in gene_blocks]\n",
    "blocks_with_2plus = [count for count in coord_counts_per_block if count > 2]\n",
    "\n",
    "print(f\"Number of detected block exons: {len(bl_ex_ad)}\")\n",
    "print(f\"Mean number of Coord per block: {np.mean(coord_counts_per_block):.2f}\")\n",
    "print(f\"Percentage of blocks with >2 Coord: {100 * len(blocks_with_2plus) / len(coord_counts_per_block):.2f}%\")\n"
   ]
  },
  {
   "cell_type": "code",
   "execution_count": 6,
   "id": "ec15775e-a07c-4d6e-bfe3-e476649220c5",
   "metadata": {},
   "outputs": [
    {
     "name": "stderr",
     "output_type": "stream",
     "text": [
      "/var/folders/s5/012b_sqx2bl9vk20cyklfj_r0000gn/T/ipykernel_75830/3584381130.py:5: DeprecationWarning: DataFrameGroupBy.apply operated on the grouping columns. This behavior is deprecated, and in a future version of pandas the grouping columns will be excluded from the operation. Either pass `include_groups=False` to exclude the groupings or explicitly select the grouping columns after groupby to silence this warning.\n",
      "  bl_ex.groupby('gene_name')\n"
     ]
    },
    {
     "data": {
      "image/png": "[encoded data removed]",
      "text/plain": [
       "<Figure size 200x600 with 1 Axes>"
      ]
     },
     "metadata": {},
     "output_type": "display_data"
    },
    {
     "name": "stdout",
     "output_type": "stream",
     "text": [
      "Percentage of exons with a direct neighbor: 85.51%\n"
     ]
    }
   ],
   "source": [
    "#Plot Adjacent vs Distal Coordinated Exons\n",
    "\n",
    "# Recalculate neighbor status\n",
    "plot_df = (\n",
    "    bl_ex.groupby('gene_name')\n",
    "    .apply(lambda x: x.sort_values('exon_number'))\n",
    "    .reset_index(drop=True)\n",
    ")\n",
    "\n",
    "plot_df['next_exon_diff'] = plot_df.groupby('gene_name')['exon_number'].shift(-1) - plot_df['exon_number']\n",
    "plot_df['prev_exon_diff'] = plot_df['exon_number'] - plot_df.groupby('gene_name')['exon_number'].shift(1)\n",
    "plot_df['has_neighbor'] = ((plot_df['next_exon_diff'] == 1) | (plot_df['prev_exon_diff'] == 1)).astype(int)\n",
    "plot_df['exon_category'] = plot_df['has_neighbor'].map({1: 'adjacent', 0: 'distal'})\n",
    "\n",
    "# Plot\n",
    "counts = plot_df['exon_category'].value_counts()\n",
    "plt.figure(figsize=(2, 6))\n",
    "plt.bar(counts.index, counts.values, color=['#FFD449', '#F9A620'], edgecolor='black')\n",
    "plt.ylabel('Number of exons')\n",
    "plt.savefig('bar_chart_corr_exons_adjacent.pdf')\n",
    "plt.show()\n",
    "\n",
    "print(f\"Percentage of exons with a direct neighbor: {plot_df['has_neighbor'].mean() * 100:.2f}%\")\n"
   ]
  },
  {
   "cell_type": "code",
   "execution_count": 7,
   "id": "7cbaf740-cec3-4291-9a59-56701c199092",
   "metadata": {},
   "outputs": [],
   "source": [
    "#Break Down dPSI Direction and Save Subsets\n",
    "\n",
    "positive_dpsi_df = bl_ex_ad[bl_ex_ad['dPSI'] > 0].reset_index(drop=True)\n",
    "negative_dpsi_df = bl_ex_ad[bl_ex_ad['dPSI'] < 0].reset_index(drop=True)\n",
    "\n",
    "positive_dpsi_df.to_csv(\"block_exons_ddPSImax0.2_adjacent.moreINCLUDED.csv\", index=False)\n",
    "negative_dpsi_df.to_csv(\"block_exons_ddPSImax0.2_adjacent.moreSKIPPED.csv\", index=False)\n",
    "\n",
    "or_exons = wh[~wh['Coord'].isin(bl_ex_ad['Coord'])]\n",
    "or_exons.to_csv('single_regulated_exons.csv', index=False)\n"
   ]
  },
  {
   "cell_type": "code",
   "execution_count": 8,
   "id": "cd2cb7e3-f00d-4486-8659-cb5925ac17d0",
   "metadata": {},
   "outputs": [],
   "source": [
    "# Define First, Last, Middle Exons in Each Block\n",
    "\n",
    "def get_terminal_exons(df, first=True):\n",
    "    results = []\n",
    "    for gene, group in df.groupby('gene_name'):\n",
    "        group = group.sort_values('exon_number').reset_index(drop=True)\n",
    "        group['group_id'] = (group['dPSI'].diff().abs() > 0.2).cumsum()\n",
    "        for group_id, sub_group in group.groupby('group_id'):\n",
    "            exon_idx = sub_group['exon_number'].idxmin() if first else sub_group['exon_number'].idxmax()\n",
    "            exon = sub_group.loc[exon_idx]\n",
    "            results.append({'gene_name': gene, 'group_id': group_id, 'Coord': exon['Coord'], 'exon_number': exon['exon_number']})\n",
    "    return pd.DataFrame(results)\n",
    "\n",
    "first_exons = get_terminal_exons(bl_ex_ad, first=True)\n",
    "last_exons = get_terminal_exons(bl_ex_ad, first=False)\n",
    "\n",
    "# Save them\n",
    "first_exon_incl = positive_dpsi_df[positive_dpsi_df['Coord'].isin(first_exons['Coord'])].reset_index(drop=True)\n",
    "first_exon_skip = negative_dpsi_df[negative_dpsi_df['Coord'].isin(first_exons['Coord'])].reset_index(drop=True)\n",
    "last_exon_incl = positive_dpsi_df[positive_dpsi_df['Coord'].isin(last_exons['Coord'])].reset_index(drop=True)\n",
    "last_exon_skip = negative_dpsi_df[negative_dpsi_df['Coord'].isin(last_exons['Coord'])].reset_index(drop=True)\n",
    "\n",
    "first_exon_incl.to_csv(\"first_block_exon.moreINCLUDED.csv\", index=False)\n",
    "first_exon_skip.to_csv(\"first_block_exon.moreSKIPPED.csv\", index=False)\n",
    "last_exon_incl.to_csv(\"last_block_exon.moreINCLUDED.csv\", index=False)\n",
    "last_exon_skip.to_csv(\"last_block_exon.moreSKIPPED.csv\", index=False)\n",
    "\n",
    "# Define middle exons\n",
    "middle_exon_incl = positive_dpsi_df[~positive_dpsi_df['Coord'].isin(pd.concat([first_exon_incl, last_exon_incl])['Coord'])].reset_index(drop=True)\n",
    "middle_exon_skip = negative_dpsi_df[~negative_dpsi_df['Coord'].isin(pd.concat([first_exon_skip, last_exon_skip])['Coord'])].reset_index(drop=True)\n",
    "\n",
    "middle_exon_incl.to_csv(\"middle_block_exon.moreINCLUDED.csv\", index=False)\n",
    "middle_exon_skip.to_csv(\"middle_block_exon.moreSKIPPED.csv\", index=False)\n"
   ]
  },
  {
   "cell_type": "code",
   "execution_count": null,
   "id": "25c37aa2-364c-4793-b64e-0226501c5e60",
   "metadata": {},
   "outputs": [],
   "source": []
  }
 ],
 "metadata": {
  "kernelspec": {
   "display_name": "Python 3 (ipykernel)",
   "language": "python",
   "name": "python3"
  },
  "language_info": {
   "codemirror_mode": {
    "name": "ipython",
    "version": 3
   },
   "file_extension": ".py",
   "mimetype": "text/x-python",
   "name": "python",
   "nbconvert_exporter": "python",
   "pygments_lexer": "ipython3",
   "version": "3.9.20"
  }
 },
 "nbformat": 4,
 "nbformat_minor": 5
}
